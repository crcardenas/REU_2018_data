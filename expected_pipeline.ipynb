{
 "cells": [
  {
   "cell_type": "markdown",
   "metadata": {},
   "source": [
    "# Pipeline\n",
    "This pipeline is modeled after:\n",
    "1. [Carol Rowe's Allenrolfea analysis](https://digitalcommons.usu.edu/all_datasets/39/) <br>\n",
    "2. [emprical ipyrad API pedicularis](https://nbviewer.jupyter.org/github/dereneaton/ipyrad/blob/master/tests/cookbook-empirical-API-1-pedicularis.ipynb)\n",
    "<br>\n",
    "*to be updated with further population analysis as well* <br>\n"
   ]
  },
  {
   "cell_type": "markdown",
   "metadata": {},
   "source": [
    "**Check `ipcluster` instance with a profile**<br>\n",
    "First we need to check our paralization"
   ]
  },
  {
   "cell_type": "code",
   "execution_count": 6,
   "metadata": {},
   "outputs": [
    {
     "name": "stdout",
     "output_type": "stream",
     "text": [
      "ipyparallel 6.0.2\n",
      "mpi1 has 15 cores\n"
     ]
    }
   ],
   "source": [
    "import ipyparallel as ipp\n",
    "print 'ipyparallel', ipp.__version__\n",
    "mpi1 = ipp.Client(profile=\"MPI1\")\n",
    "print 'mpi1 has',len(mpi1), 'cores'"
   ]
  },
  {
   "cell_type": "markdown",
   "metadata": {},
   "source": [
    "### ipyrad\n",
    "The only library we need to import is *ipyrad*. The import command is usually the first code called in a Python document to load any necessary packages. In the code below, we use a convenient trick in Python to tell it that we want to refer to ipyrad simply as ip. This saves us a little space since we might type the name many times. Below that, we use the print statement to print the version number of *ipyrad*. This is good practice to keep a record of which software version we are using. <br>\n",
    "<br>\n",
    "This guide and markdown is straight from the [*ipyrad* API user guide](https://ipyrad.readthedocs.io/API_user-guide.html) but will be using 2019_thesis data."
   ]
  },
  {
   "cell_type": "code",
   "execution_count": 7,
   "metadata": {},
   "outputs": [
    {
     "name": "stdout",
     "output_type": "stream",
     "text": [
      "0.7.28\n"
     ]
    }
   ],
   "source": [
    "#requires ipyrad\n",
    "import ipyrad as ip\n",
    "print ip.__version__"
   ]
  },
  {
   "cell_type": "markdown",
   "metadata": {},
   "source": [
    "### Data structure\n",
    "There are two main objects in *ipyrad*: Assembly class objects and Sample class objects. And in fact, most users will only ever interact with the Assembly class objects, since Sample objects are stored inside of the Assembly objects, and the Assembly objects have functions, such as merge, and branch, that are designed for manipulating and exchanging Samples between different Assemblies. <br>\n",
    "### Assembly class objects\n",
    "Assembly objects are a unique data structure that ipyrad uses to store and organize information about how to Assemble RAD-seq data. It contains functions that can be applied to data, such as clustering, and aligning sequences. And it stores information about which settings (prarmeters) to use for assembly functions, and which Samples the functions should be applied to. You can think of it mostly as a container that has a set of rules associated with it. <br>\n",
    "To create a new Assembly object use the `ip.Assembly()` function and pass it the name of your new Assembly. Creating an object in this way has exactly the same effect as using the **-n {name}** argument in the *ipyrad* command line tool, except in the API instead of creating a params.txt file, we store the new Assembly information in a Python variable. This can be named anything you want. Below I name the variable *data1* so it is easy to remember that the Assembly name is also data1"
   ]
  },
  {
   "cell_type": "code",
   "execution_count": 14,
   "metadata": {},
   "outputs": [
    {
     "name": "stdout",
     "output_type": "stream",
     "text": [
      "New Assembly: data1\n"
     ]
    }
   ],
   "source": [
    "data1 = ip.Assembly(\"data1\")"
   ]
  },
  {
   "cell_type": "markdown",
   "metadata": {},
   "source": [
    "### Setting parameters\n",
    "You now have a Assembly object with a default set of parameters associated with it, analogous to the params file in the command line tool. You can view and modify these parameters using two arguments to the Assembly object, `set_params()` and `get_params()`."
   ]
  },
  {
   "cell_type": "code",
   "execution_count": 15,
   "metadata": {},
   "outputs": [
    {
     "ename": "IPyradError",
     "evalue": "    Error setting parameter 'raw_fastq_path'\n        The value entered for the path to the raw fastq file is unrecognized.\n    Please be sure this path is correct. Double check the file name and\n    the file extension. If it is a relative path be sure the path is\n    correct with respect to the directory you're running ipyrad from.\n    You entered: /home/cardenas.61/output/cluster_analysis/both_outfiles/*.gz\n\n    You entered: ./*.gz\n    ",
     "output_type": "error",
     "traceback": [
      "\u001b[0;31m\u001b[0m",
      "\u001b[0;31mIPyradError\u001b[0mTraceback (most recent call last)",
      "\u001b[0;32m<ipython-input-15-d11154b68050>\u001b[0m in \u001b[0;36m<module>\u001b[0;34m()\u001b[0m\n\u001b[1;32m      1\u001b[0m \u001b[0;31m## set and modify params for this assembly object here\u001b[0m\u001b[0;34m\u001b[0m\u001b[0;34m\u001b[0m\u001b[0m\n\u001b[1;32m      2\u001b[0m \u001b[0mdata1\u001b[0m\u001b[0;34m.\u001b[0m\u001b[0mset_params\u001b[0m\u001b[0;34m(\u001b[0m\u001b[0;34m'project_dir'\u001b[0m\u001b[0;34m,\u001b[0m \u001b[0;34m'./'\u001b[0m\u001b[0;34m)\u001b[0m \u001b[0;31m# this will need to be run for EACH assembly\u001b[0m\u001b[0;34m\u001b[0m\u001b[0m\n\u001b[0;32m----> 3\u001b[0;31m \u001b[0mdata1\u001b[0m\u001b[0;34m.\u001b[0m\u001b[0mset_params\u001b[0m\u001b[0;34m(\u001b[0m\u001b[0;34m'raw_fastq_path'\u001b[0m\u001b[0;34m,\u001b[0m \u001b[0;34m'./*.gz'\u001b[0m\u001b[0;34m)\u001b[0m\u001b[0;34m\u001b[0m\u001b[0m\n\u001b[0m\u001b[1;32m      4\u001b[0m \u001b[0mdata1\u001b[0m\u001b[0;34m.\u001b[0m\u001b[0mset_params\u001b[0m\u001b[0;34m(\u001b[0m\u001b[0;34m'barcodes_path'\u001b[0m\u001b[0;34m,\u001b[0m \u001b[0;34m''\u001b[0m\u001b[0;34m)\u001b[0m \u001b[0;31m# gonna need to fix this, remember there was an issue with what Restriction codes gave us!\u001b[0m\u001b[0;34m\u001b[0m\u001b[0m\n\u001b[1;32m      5\u001b[0m \u001b[0mdata1\u001b[0m\u001b[0;34m.\u001b[0m\u001b[0mset_params\u001b[0m\u001b[0;34m(\u001b[0m\u001b[0;34m'assembly_method'\u001b[0m\u001b[0;34m,\u001b[0m \u001b[0;34m'denovo+refrence'\u001b[0m\u001b[0;34m)\u001b[0m\u001b[0;34m\u001b[0m\u001b[0m\n",
      "\u001b[0;32m/home/cardenas.61/.conda/envs/local/lib/python2.7/site-packages/ipyrad/core/assembly.pyc\u001b[0m in \u001b[0;36mset_params\u001b[0;34m(self, param, newvalue)\u001b[0m\n\u001b[1;32m    813\u001b[0m         \u001b[0;32mexcept\u001b[0m \u001b[0mException\u001b[0m \u001b[0;32mas\u001b[0m \u001b[0minst\u001b[0m\u001b[0;34m:\u001b[0m\u001b[0;34m\u001b[0m\u001b[0m\n\u001b[1;32m    814\u001b[0m             raise IPyradWarningExit(BAD_PARAMETER\\\n\u001b[0;32m--> 815\u001b[0;31m                                     .format(param, inst, newvalue))\n\u001b[0m\u001b[1;32m    816\u001b[0m \u001b[0;34m\u001b[0m\u001b[0m\n\u001b[1;32m    817\u001b[0m \u001b[0;34m\u001b[0m\u001b[0m\n",
      "\u001b[0;32m/home/cardenas.61/.conda/envs/local/lib/python2.7/site-packages/ipyrad/assemble/util.pyc\u001b[0m in \u001b[0;36m__init__\u001b[0;34m(self, *args, **kwargs)\u001b[0m\n\u001b[1;32m     50\u001b[0m     \u001b[0;32mdef\u001b[0m \u001b[0m__init__\u001b[0m\u001b[0;34m(\u001b[0m\u001b[0mself\u001b[0m\u001b[0;34m,\u001b[0m \u001b[0;34m*\u001b[0m\u001b[0margs\u001b[0m\u001b[0;34m,\u001b[0m \u001b[0;34m**\u001b[0m\u001b[0mkwargs\u001b[0m\u001b[0;34m)\u001b[0m\u001b[0;34m:\u001b[0m\u001b[0;34m\u001b[0m\u001b[0m\n\u001b[1;32m     51\u001b[0m         \u001b[0;32mif\u001b[0m \u001b[0mipyrad\u001b[0m\u001b[0;34m.\u001b[0m\u001b[0m__interactive__\u001b[0m\u001b[0;34m:\u001b[0m\u001b[0;34m\u001b[0m\u001b[0m\n\u001b[0;32m---> 52\u001b[0;31m             \u001b[0;32mraise\u001b[0m \u001b[0mIPyradError\u001b[0m\u001b[0;34m(\u001b[0m\u001b[0;34m*\u001b[0m\u001b[0margs\u001b[0m\u001b[0;34m,\u001b[0m \u001b[0;34m**\u001b[0m\u001b[0mkwargs\u001b[0m\u001b[0;34m)\u001b[0m\u001b[0;34m\u001b[0m\u001b[0m\n\u001b[0m\u001b[1;32m     53\u001b[0m         \u001b[0;32melse\u001b[0m\u001b[0;34m:\u001b[0m\u001b[0;34m\u001b[0m\u001b[0m\n\u001b[1;32m     54\u001b[0m             \u001b[0mSystemExit\u001b[0m\u001b[0;34m.\u001b[0m\u001b[0m__init__\u001b[0m\u001b[0;34m(\u001b[0m\u001b[0mself\u001b[0m\u001b[0;34m,\u001b[0m \u001b[0;34m*\u001b[0m\u001b[0margs\u001b[0m\u001b[0;34m,\u001b[0m \u001b[0;34m**\u001b[0m\u001b[0mkwargs\u001b[0m\u001b[0;34m)\u001b[0m\u001b[0;34m\u001b[0m\u001b[0m\n",
      "\u001b[0;31mIPyradError\u001b[0m:     Error setting parameter 'raw_fastq_path'\n        The value entered for the path to the raw fastq file is unrecognized.\n    Please be sure this path is correct. Double check the file name and\n    the file extension. If it is a relative path be sure the path is\n    correct with respect to the directory you're running ipyrad from.\n    You entered: /home/cardenas.61/output/cluster_analysis/both_outfiles/*.gz\n\n    You entered: ./*.gz\n    "
     ]
    }
   ],
   "source": [
    "## set and modify params for this assembly object here\n",
    "data1.set_params('project_dir', './') # this will need to be run for EACH assembly\n",
    "data1.set_params('raw_fastq_path', './*.gz')\n",
    "data1.set_params('barcodes_path', '') # gonna need to fix this, remember there was an issue with what Restriction codes gave us!\n",
    "data1.set_params('assembly_method', 'denovo+refrence') \n",
    "data1.set_params('refrence_sequence', 'Tzet_genomic.fna')\n",
    "data1.set_params('datatype', 'ddrad')\n",
    "data1.set_params('restriction_overhang', 'TGCAG, CGG') # remember there was an issue with what Restriction codes gave us!\n",
    "data1.set_params('mindepth_statistical', '6')\n",
    "data1.set_params('mindepth_majrule', '6')\n",
    "data1.set_params('filter_adapters', '1')# do two runsrun with 1 and one with 2 (2= stricter)\n",
    "data1.set_params('max_SNPs_locus', '20, 30') # 20,20 is standard in ipyrad, we used 20,30 last time\n",
    "# ...\n",
    "\n",
    "#print param file\n",
    "data1.get_params()"
   ]
  },
  {
   "cell_type": "markdown",
   "metadata": {},
   "source": [
    "#### Instantaneous parameter (and error) checking\n",
    "A nice feature of the `set_params()` function in the *ipyrad* API is that it checks your parameter settings at the time that you change them to make sure that they are compatible. By contrast, the *ipyrad* CLI does not check params until you try to run a step function. As you saw, we assigned any `./*.gz`file in the directory for the raw_fastq_path parameter, but it doesnt exist in this directory so it throws an error. <br>\n",
    "once you get it all fixed you can print your param file and make sure everything looks right"
   ]
  },
  {
   "cell_type": "code",
   "execution_count": 17,
   "metadata": {
    "scrolled": true
   },
   "outputs": [
    {
     "name": "stdout",
     "output_type": "stream",
     "text": [
      "0   assembly_name               data1                                        \n",
      "1   project_dir                 /home/cardenas.61/output/cluster_analysis/both_outfiles\n",
      "2   raw_fastq_path                                                           \n",
      "3   barcodes_path                                                            \n",
      "4   sorted_fastq_path                                                        \n",
      "5   assembly_method             denovo                                       \n",
      "6   reference_sequence                                                       \n",
      "7   datatype                    rad                                          \n",
      "8   restriction_overhang        ('TGCAG', '')                                \n",
      "9   max_low_qual_bases          5                                            \n",
      "10  phred_Qscore_offset         33                                           \n",
      "11  mindepth_statistical        6                                            \n",
      "12  mindepth_majrule            6                                            \n",
      "13  maxdepth                    10000                                        \n",
      "14  clust_threshold             0.85                                         \n",
      "15  max_barcode_mismatch        0                                            \n",
      "16  filter_adapters             0                                            \n",
      "17  filter_min_trim_len         35                                           \n",
      "18  max_alleles_consens         2                                            \n",
      "19  max_Ns_consens              (5, 5)                                       \n",
      "20  max_Hs_consens              (8, 8)                                       \n",
      "21  min_samples_locus           4                                            \n",
      "22  max_SNPs_locus              (20, 20)                                     \n",
      "23  max_Indels_locus            (8, 8)                                       \n",
      "24  max_shared_Hs_locus         0.5                                          \n",
      "25  trim_reads                  (0, 0, 0, 0)                                 \n",
      "26  trim_loci                   (0, 0, 0, 0)                                 \n",
      "27  output_formats              ['p', 's', 'v']                              \n",
      "28  pop_assign_file                                                          \n"
     ]
    }
   ],
   "source": [
    "data1.get_params()"
   ]
  },
  {
   "cell_type": "markdown",
   "metadata": {},
   "source": [
    "# Multiple libraries and multiple lanes\n",
    "[See ipyrad documentation](https://ipyrad.readthedocs.io/tutorial-combining-data.html?highlight=-m%20both) for how to handle multiple libraies and lanes in this API; jump below.\n",
    "<Br><br> Another way to consider handling it is the good ole' fassion way in the commandline BEFORE running python code... BUT this will be **tedious** for 8lanes from one library and 4lanes from another! If you really hate your self... make 12 param files for these 12 files to run at step 1\n",
    "EX:<br>\n",
    "`ipyrad -p params-i06_1.txt -s 1 -f\n",
    "ipyrad -p params-i12_1.txt -s 1 -f\n",
    "ipyrad -p params-i03_1.txt -s 1 -f\n",
    "ipyrad -p params-i04_1.txt -s 1 -f\n",
    "ipyrad -p params-i05_1.txt -s 1 -f\n",
    "ipyrad -p params-i07_1.txt -s 1 -f\n",
    "ipyrad -p params-i01_1.txt -s 1 -f\n",
    "ipyrad -p params-i02_1.txt -s 1 -f\n",
    "ipyrad -p params-i06_2.txt -s 1 -f\n",
    "ipyrad -p params-i12_2.txt -s 1 -f\n",
    "ipyrad -p params-i03_2.txt -s 1 -f\n",
    "ipyrad -p params-i04_2.txt -s 1 -f\n",
    "`<br>\n",
    "<br>\n",
    "\n",
    "merge these using <br>\n",
    "`ipyrad -m all [file_i06_1.txt] ... [file_i04_2.txt] -f`<br>\n",
    "<br>\n",
    "\n",
    "then create a param file... you really shouldnt!\n",
    "\n",
    "# Alternative: using *ipyrad* API\n",
    "Using the ipyrad API is an alternative to using the command-line-interface (CLI) above. As you can see below, writing code with the Python API can be much simpler and more elegant. We recommend using the API inside a Jupyter-notebook. <br>\n",
    "<br>\n",
    "#### one lane one library<br>\n",
    "`data1 = ip.Assembly(\"data1\")`<br>\n",
    "`data1.set_params(\"raw_fastq_path\", \"ipsimdata/rad_example_R1_.fastq.gz\")`<br>\n",
    "`data1.set_params(\"barcodes_path\", \"ipsimdata/rad_example_barcodes.txt\")`<br>\n",
    "`data.run(\"123467\")`<br>\n",
    "<br>\n",
    "#### one library multiple lanes<br>\n",
    "`lib1lane1 = ip.Assembly(\"lib1lane1\")`<br>\n",
    "`lib1lane1.set_params(\"raw_fastq_path\", \"ipsimdata/rad_example_R1_.fastq.gz\")`<br>\n",
    "`lib1lane1.set_params(\"barcodes_path\", \"ipsimdata/rad_example_barcodes.txt\")`<br>\n",
    "`lib1lane1.run(\"1\")`<br>\n",
    "<br>\n",
    "\n",
    "`lib1lane2 = ip.Assembly(\"lib1lane2\")`<br>\n",
    "`lib1lane2.set_params(\"raw_fastq_path\", \"ipsimdata/rad_example_R1_.fastq.gz\")`<br>\n",
    "`lib1lane2.set_params(\"barcodes_path\", \"ipsimdata/rad_example_barcodes.txt\")`<br>\n",
    "`lib1lane2.run(\"1\")`<br>\n",
    "<br>\n",
    "`merged = ip.merge(\"lib1-2lanes\", [lib1lane1, lib1lane2])`<br>\n",
    "`merged.run(\"234567\")`<br>\n",
    "\n",
    "<br>\n",
    "#### multiple libraries multiple lanes<br>\n",
    "`lib1lane1 = ip.Assembly(\"lib1lane1\")`<br>\n",
    "`lib1lane1.set_params(\"raw_fastq_path\", \"ipsimdata/lib1_lane1_R1_.fastq.gz\")`<br>\n",
    "`lib1lane1.set_params(\"barcodes_path\", \"ipsimdata/lib1_barcodes.txt\")`<br>\n",
    "`lib1lane1.run(\"1\")`<br>\n",
    "\n",
    "`lib1lane2 = ip.Assembly(\"lib1lane2\")`<br>\n",
    "`lib1lane2.set_params(\"raw_fastq_path\", \"ipsimdata/lib1_lane2.fastq.gz\")`<br>\n",
    "`lib1lane2.set_params(\"barcodes_path\", \"ipsimdata/lib1_barcodes.txt\")`<br>\n",
    "`lib1lane2.run(\"1\")`<br>\n",
    "\n",
    "`lib2lane1 = ip.Assembly(\"lib1lane1\")`<br>\n",
    "`lib2lane1.set_params(\"raw_fastq_path\", \"ipsimdata/lib2_lane1.fastq.gz\")`<br>\n",
    "`lib2lane1.set_params(\"barcodes_path\", \"ipsimdata/lib2_barcodes.txt\")`<br>\n",
    "`lib2lane1.run(\"1\")`<br>\n",
    "\n",
    "`lib2lane2 = ip.Assembly(\"lib1lane2\")`<br>\n",
    "`lib2lane2.set_params(\"raw_fastq_path\", \"ipsimdata/lib2_lane2_.fastq.gz\")`<br>\n",
    "`lib2lane2.set_params(\"barcodes_path\", \"ipsimdata/lib2_barcodes.txt\")`<br>\n",
    "`lib2lane2.run(\"1\")`<br>\n",
    "\n",
    "`fulldata = ip.merge(\"fulldata\", [lib1lane1, lib1lane2, lib2lane1, lib2lane2])`<br>\n",
    "`fulldata.run(\"234567\")`<br>\n",
    "<br>\n",
    "#### splitting a library into different project<br>\n",
    "`project1 = [\"sample1\", \"sample2\", \"sample3\"]`<br>\n",
    "`project2 = [\"sample4\", \"sample5\", \"sample6\"]`<br>\n",
    "\n",
    "`proj1 = fulldata.branch(\"proj1\", subsamples=project1)`<br>\n",
    "`proj2 = fulldata.branch(\"proj2\", subsamples=project2)`<br>\n",
    "\n",
    "`proj1.run(\"234567\", force=True)`<br>\n",
    "`proj2.run(\"234567\", force=True)`<br>\n",
    "\n",
    "<br>\n",
    "#### print stats of project 1<br>\n",
    "`print proj1.stats`<br>\n"
   ]
  },
  {
   "cell_type": "code",
   "execution_count": null,
   "metadata": {
    "collapsed": true
   },
   "outputs": [],
   "source": []
  }
 ],
 "metadata": {
  "kernelspec": {
   "display_name": "Python 2",
   "language": "python",
   "name": "python2"
  },
  "language_info": {
   "codemirror_mode": {
    "name": "ipython",
    "version": 2
   },
   "file_extension": ".py",
   "mimetype": "text/x-python",
   "name": "python",
   "nbconvert_exporter": "python",
   "pygments_lexer": "ipython2",
   "version": "2.7.13"
  }
 },
 "nbformat": 4,
 "nbformat_minor": 2
}
